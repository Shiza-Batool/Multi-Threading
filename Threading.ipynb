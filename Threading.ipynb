{
 "cells": [
  {
   "cell_type": "code",
   "execution_count": 1,
   "metadata": {},
   "outputs": [
    {
     "name": "stdout",
     "output_type": "stream",
     "text": [
      "bbaa\n",
      "AABB\n",
      "ccdd\n",
      "Input thread has finished\n"
     ]
    }
   ],
   "source": [
    "import threading\n",
    "\n",
    "# Input thread\n",
    "def input_thread():\n",
    "    # Take input from user\n",
    "    user_input = input(\"Enter a string: \")\n",
    "    # Set the input as a global variable so that the other threads can access it\n",
    "    global input_string\n",
    "    input_string = user_input\n",
    "\n",
    "# Reverse thread\n",
    "def reverse_thread():\n",
    "    # Get the input string from the global variable\n",
    "    global input_string\n",
    "    # Reverse the string and print it\n",
    "    reversed_string = input_string[::-1]\n",
    "    print(reversed_string)\n",
    "\n",
    "# Capital thread\n",
    "def capital_thread():\n",
    "    # Get the input string from the global variable\n",
    "    global input_string\n",
    "    # Capitalize the string and print it\n",
    "    capitalized_string = input_string.upper()\n",
    "    print(capitalized_string)\n",
    "\n",
    "# Shift thread\n",
    "def shift_thread():\n",
    "    # Get the input string from the global variable\n",
    "    global input_string\n",
    "    # Shift the characters in the string by two and print it\n",
    "    shifted_string = \"\"\n",
    "    for character in input_string:\n",
    "        # Shift the character by two using ord() and chr()\n",
    "        shifted_character = chr(ord(character) + 2)\n",
    "        shifted_string += shifted_character\n",
    "    print(shifted_string)\n",
    "\n",
    "# Create the threads\n",
    "input_t = threading.Thread(target=input_thread)\n",
    "reverse_t = threading.Thread(target=reverse_thread)\n",
    "capital_t = threading.Thread(target=capital_thread)\n",
    "shift_t = threading.Thread(target=shift_thread)\n",
    "\n",
    "# Start the input thread\n",
    "input_t.start()\n",
    "# Wait for the input thread to finish\n",
    "input_t.join()\n",
    "# Start the other threads\n",
    "reverse_t.start()\n",
    "capital_t.start()\n",
    "shift_t.start()\n",
    "\n"
   ]
  }
 ],
 "metadata": {
  "kernelspec": {
   "display_name": "Python 3",
   "language": "python",
   "name": "python3"
  },
  "language_info": {
   "codemirror_mode": {
    "name": "ipython",
    "version": 3
   },
   "file_extension": ".py",
   "mimetype": "text/x-python",
   "name": "python",
   "nbconvert_exporter": "python",
   "pygments_lexer": "ipython3",
   "version": "3.10.9 (tags/v3.10.9:1dd9be6, Dec  6 2022, 20:01:21) [MSC v.1934 64 bit (AMD64)]"
  },
  "orig_nbformat": 4,
  "vscode": {
   "interpreter": {
    "hash": "bb2e5f954ba7da35387fb3cb73b3067812a81b1c4e408c4b60c1699c29c67b8e"
   }
  }
 },
 "nbformat": 4,
 "nbformat_minor": 2
}
